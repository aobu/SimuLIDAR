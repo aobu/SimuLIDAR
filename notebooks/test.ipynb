{
 "cells": [
  {
   "cell_type": "code",
   "id": "initial_id",
   "metadata": {
    "collapsed": true,
    "ExecuteTime": {
     "end_time": "2024-08-17T14:43:15.768085Z",
     "start_time": "2024-08-17T14:43:15.763049Z"
    }
   },
   "source": [
    "import pygame\n",
    "\n",
    "from src.Environment import Environment"
   ],
   "outputs": [],
   "execution_count": 5
  },
  {
   "metadata": {
    "ExecuteTime": {
     "end_time": "2024-08-17T14:43:15.777479Z",
     "start_time": "2024-08-17T14:43:15.770096Z"
    }
   },
   "cell_type": "code",
   "source": "mapPath = '../maps/FloorPlan1.png'",
   "id": "291d1d680e997e57",
   "outputs": [],
   "execution_count": 6
  },
  {
   "metadata": {
    "ExecuteTime": {
     "end_time": "2024-08-17T14:43:15.842908Z",
     "start_time": "2024-08-17T14:43:15.779493Z"
    }
   },
   "cell_type": "code",
   "source": "Environment = Environment(mapPath)",
   "id": "5a96e8f464b92dab",
   "outputs": [],
   "execution_count": 7
  },
  {
   "metadata": {
    "ExecuteTime": {
     "end_time": "2024-08-17T14:43:23.346260Z",
     "start_time": "2024-08-17T14:43:15.844925Z"
    }
   },
   "cell_type": "code",
   "source": [
    "running = True\n",
    "while running:\n",
    "    \n",
    "    for event in pygame.event.get():\n",
    "        if event.type == pygame.QUIT:\n",
    "            running = False\n",
    "            \n",
    "    pygame.display.update()\n",
    "    "
   ],
   "id": "9366bd742a2f4b2d",
   "outputs": [],
   "execution_count": 8
  }
 ],
 "metadata": {
  "kernelspec": {
   "display_name": "Python 3",
   "language": "python",
   "name": "python3"
  },
  "language_info": {
   "codemirror_mode": {
    "name": "ipython",
    "version": 2
   },
   "file_extension": ".py",
   "mimetype": "text/x-python",
   "name": "python",
   "nbconvert_exporter": "python",
   "pygments_lexer": "ipython2",
   "version": "2.7.6"
  }
 },
 "nbformat": 4,
 "nbformat_minor": 5
}
